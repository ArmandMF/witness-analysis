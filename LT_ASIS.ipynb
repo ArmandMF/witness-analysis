{
 "cells": [
  {
   "cell_type": "code",
   "execution_count": 1,
   "metadata": {},
   "outputs": [],
   "source": [
    "import pandas as pd\n",
    "import statsmodels.api as sm\n",
    "import matplotlib.pyplot as plt\n",
    "import numpy as np"
   ]
  },
  {
   "cell_type": "code",
   "execution_count": 2,
   "metadata": {},
   "outputs": [],
   "source": [
    "data = pd.read_excel('Base/LT_ASIS_B1000.xlsx', sheet_name='Sheet1')\n",
    "data_c1 = pd.read_excel('SC1/LT_ASIS_B1000.xlsx', sheet_name='Sheet1')\n",
    "data_c2 = pd.read_excel('SC2/LT_ASIS_B1000.xlsx', sheet_name='Sheet1')\n",
    "data_c3 = pd.read_excel('SC3/LT_ASIS_B1000.xlsx', sheet_name='Sheet1')\n",
    "\n",
    "data_lt = pd.read_excel('Base/LT_ASIS_B1000_lt.xlsx', sheet_name='Sheet1')\n",
    "\n",
    "data_500 = pd.read_excel('Base/LT_ASIS_B500.xlsx', sheet_name='Sheet1')\n",
    "#data_c1_500 = pd.read_excel('SC1/WIP_ASIS_B500.xlsx', sheet_name='Sheet1')\n",
    "#data_c2_500 = pd.read_excel('SC2/WIP_ASIS_B500.xlsx', sheet_name='Sheet1')\n",
    "#data_c3_500 = pd.read_excel('SC3/WIP_ASIS_B500.xlsx', sheet_name='Sheet1')\n",
    "\n",
    "data_500_lt = pd.read_excel('Base/LT_ASIS_B500_lt.xlsx', sheet_name='Sheet1')\n",
    "#data_c1_500 = pd.read_excel('SC1/WIP_ASIS_B500.xlsx', sheet_name='Sheet1')\n",
    "#data_c2_500 = pd.read_excel('SC2/WIP_ASIS_B500.xlsx', sheet_name='Sheet1')\n",
    "#data_c3_500 = pd.read_excel('SC3/WIP_ASIS_B500.xlsx', sheet_name='Sheet1')\n",
    "\n",
    "data_50 = pd.read_excel('Base/LT_ASIS_B50.xlsx', sheet_name='Sheet1')\n",
    "#data_c1_500 = pd.read_excel('SC1/WIP_ASIS_B500.xlsx', sheet_name='Sheet1')\n",
    "#data_c2_500 = pd.read_excel('SC2/WIP_ASIS_B500.xlsx', sheet_name='Sheet1')\n",
    "#data_c3_500 = pd.read_excel('SC3/WIP_ASIS_B500.xlsx', sheet_name='Sheet1')\n",
    "\n",
    "\n",
    "data_50_lt = pd.read_excel('Base/LT_ASIS_B50_lt.xlsx', sheet_name='Sheet1')\n",
    "#data_c1_500 = pd.read_excel('SC1/WIP_ASIS_B500.xlsx', sheet_name='Sheet1')\n",
    "#data_c2_500 = pd.read_excel('SC2/WIP_ASIS_B500.xlsx', sheet_name='Sheet1')\n",
    "#data_c3_500 = pd.read_excel('SC3/WIP_ASIS_B500.xlsx', sheet_name='Sheet1')"
   ]
  },
  {
   "cell_type": "code",
   "execution_count": 3,
   "metadata": {},
   "outputs": [],
   "source": [
    "data = data.iloc[::2]\n",
    "data_c1 = data_c1.iloc[::2]\n",
    "data_c2 = data_c2.iloc[::2]\n",
    "data_c3 = data_c3.iloc[::2]\n",
    "\n",
    "data_lt = data_lt.iloc[::2]\n",
    "\n",
    "data_500 = data_500.iloc[::2]\n",
    "data_500_lt = data_500_lt.iloc[::2]\n",
    "\n",
    "data_50 = data_50.iloc[::2]\n",
    "data_50_lt = data_50_lt.iloc[::2]"
   ]
  },
  {
   "cell_type": "code",
   "execution_count": null,
   "metadata": {},
   "outputs": [],
   "source": [
    "print(data.head(10))"
   ]
  },
  {
   "cell_type": "code",
   "execution_count": null,
   "metadata": {},
   "outputs": [],
   "source": [
    "ax = plt.gca()\n",
    "\n",
    "\n",
    "data.plot(kind='line',x='Time',y='Time_A', color='red', ax=ax,figsize=(15, 9))\n",
    "data.plot(kind='line',x='Time',y='Time_B', color='green', ax=ax)\n",
    "data.plot(kind='line',x='Time',y='Time_C', color='cyan', ax=ax)\n",
    "data.plot(kind='line',x='Time',y='Time_D', color='magenta', ax=ax)\n",
    "data.plot(kind='line',x='Time',y='Time_E', color='yellow', ax=ax)\n",
    "data.plot(kind='line',x='Time',y='Time_F', color='black', ax=ax)\n",
    "data.plot(kind='line',x='Time',y='Time_G', color='orange', ax=ax)\n",
    "data.plot(kind='line',x='Time',y='Time_H', color='purple', ax=ax)\n",
    "plt.title('Lead Time Base (Buffers = 1000)')\n",
    "plt.xlabel('Time')\n",
    "plt.ylabel('Lead Time')"
   ]
  },
  {
   "cell_type": "code",
   "execution_count": null,
   "metadata": {},
   "outputs": [],
   "source": [
    "data.mean()"
   ]
  },
  {
   "cell_type": "code",
   "execution_count": null,
   "metadata": {},
   "outputs": [],
   "source": [
    "data_sliced = data.drop('Time', 1)\n",
    "data_sliced"
   ]
  },
  {
   "cell_type": "code",
   "execution_count": null,
   "metadata": {},
   "outputs": [],
   "source": [
    "data_sliced.mean().plot.bar(rot=0, figsize=(15,6))\n",
    "plt.title('Lead Time (Buffers = 1000)')\n",
    "plt.xlabel('Parts')\n",
    "plt.ylabel('Lead Time')"
   ]
  },
  {
   "cell_type": "code",
   "execution_count": null,
   "metadata": {},
   "outputs": [],
   "source": [
    "ax = plt.gca()\n",
    "\n",
    "\n",
    "data_c2.plot(kind='line',x='Time',y='Time_A', color='red', ax=ax,figsize=(15, 9))\n",
    "data_c2.plot(kind='line',x='Time',y='Time_B', color='green', ax=ax)\n",
    "data_c2.plot(kind='line',x='Time',y='Time_C', color='cyan', ax=ax)\n",
    "data_c2.plot(kind='line',x='Time',y='Time_D', color='magenta', ax=ax)\n",
    "data_c2.plot(kind='line',x='Time',y='Time_E', color='yellow', ax=ax)\n",
    "data_c2.plot(kind='line',x='Time',y='Time_F', color='black', ax=ax)\n",
    "data_c2.plot(kind='line',x='Time',y='Time_G', color='orange', ax=ax)\n",
    "data_c2.plot(kind='line',x='Time',y='Time_H', color='purple', ax=ax)\n",
    "plt.title('Lead Time SC1 (Buffers = 1000)')\n",
    "plt.xlabel('Time')\n",
    "plt.ylabel('Lead Time')"
   ]
  },
  {
   "cell_type": "code",
   "execution_count": null,
   "metadata": {},
   "outputs": [],
   "source": [
    "ax = plt.gca()\n",
    "\n",
    "\n",
    "data_c3.plot(kind='line',x='Time',y='Time_A', color='red', ax=ax,figsize=(15, 9))\n",
    "data_c3.plot(kind='line',x='Time',y='Time_B', color='green', ax=ax)\n",
    "data_c3.plot(kind='line',x='Time',y='Time_C', color='cyan', ax=ax)\n",
    "data_c3.plot(kind='line',x='Time',y='Time_D', color='magenta', ax=ax)\n",
    "data_c3.plot(kind='line',x='Time',y='Time_E', color='yellow', ax=ax)\n",
    "data_c3.plot(kind='line',x='Time',y='Time_F', color='black', ax=ax)\n",
    "data_c3.plot(kind='line',x='Time',y='Time_G', color='orange', ax=ax)\n",
    "data_c3.plot(kind='line',x='Time',y='Time_H', color='purple', ax=ax)\n",
    "plt.title('Lead Time SC1 (Buffers = 1000)')\n",
    "plt.xlabel('Time')\n",
    "plt.ylabel('Lead Time')"
   ]
  },
  {
   "cell_type": "code",
   "execution_count": null,
   "metadata": {},
   "outputs": [],
   "source": [
    "data_c1 = data_c1.drop('Time',1)\n",
    "data_c1 = data_c1.mean()\n",
    "data_c1"
   ]
  },
  {
   "cell_type": "code",
   "execution_count": null,
   "metadata": {},
   "outputs": [],
   "source": [
    "data_c2 = data_c2.drop('Time',1)\n",
    "data_c2 = data_c2.mean()\n",
    "data_c2"
   ]
  },
  {
   "cell_type": "code",
   "execution_count": null,
   "metadata": {},
   "outputs": [],
   "source": [
    "data_c3 = data_c3.drop('Time',1)\n",
    "data_c3 = data_c3.mean()\n",
    "data_c3\n",
    "data_c3_df = data_c3.to_frame()\n",
    "data_c3_df = data_c3_df.T\n",
    "data_c3_df"
   ]
  },
  {
   "cell_type": "code",
   "execution_count": null,
   "metadata": {},
   "outputs": [],
   "source": [
    "import seaborn as sns\n",
    "sns.set_context('poster')\n",
    "\n",
    "\n",
    "fig, ax = plt.subplots(figsize=(25, 8))\n",
    "\n",
    "x = np.arange(len(data_c3_df.columns))\n",
    "\n",
    "bar_width = 0.2\n",
    "\n",
    "#b0 = ax.bar(x, data_sliced.mean(), width=bar_width,color=\"#f9ed69\",label ='Base')\n",
    "b1 = ax.bar(x + bar_width, data_c1,width=bar_width,color=\"#f08a5d\", label='Scenario 1')\n",
    "b2 = ax.bar(x + 2*bar_width, data_c2, width=bar_width,color=\"#b83b5e\",label='Scenario 2')\n",
    "b3 = ax.bar(x + 3*bar_width, data_c3, width=bar_width,color=\"#6a2c70\",label='Scenario 3')\n",
    "\n",
    "\n",
    "\n",
    "# Fix the x-axes.\n",
    "ax.set_xticks(x + 1.5*bar_width)\n",
    "ax.set_xticklabels(data_c3_df.columns)\n",
    "\n",
    "# Axis styling.\n",
    "ax.spines['top'].set_visible(False)\n",
    "ax.spines['right'].set_visible(False)\n",
    "ax.spines['left'].set_visible(False)\n",
    "ax.spines['bottom'].set_color('#DDDDDD')\n",
    "ax.tick_params(bottom=False, left=False)\n",
    "ax.set_axisbelow(True)\n",
    "ax.yaxis.grid(True, color='#EEEEEE')\n",
    "ax.xaxis.grid(False)\n",
    "\n",
    "# Add axis and chart labels.\n",
    "ax.set_xlabel('Parts', fontsize=25)\n",
    "ax.set_ylabel('Lead Time (min.)', fontsize=25)\n",
    "ax.set_title('Lead time of scenarios', fontsize=25)\n",
    "\n",
    "ax.legend()\n",
    "\n",
    "fig.tight_layout()\n",
    "#plt.savefig('LT_ASIS.png', dpi=1200)\n",
    "plt.savefig('LT_ASIS_wbase.png', transparent=True, dpi=200)"
   ]
  },
  {
   "cell_type": "code",
   "execution_count": null,
   "metadata": {},
   "outputs": [],
   "source": [
    "data_sliced.mean()"
   ]
  },
  {
   "cell_type": "code",
   "execution_count": null,
   "metadata": {},
   "outputs": [],
   "source": [
    "data_c3.mean()"
   ]
  },
  {
   "cell_type": "code",
   "execution_count": null,
   "metadata": {},
   "outputs": [],
   "source": [
    "data_sliced.mean().mean()"
   ]
  },
  {
   "cell_type": "code",
   "execution_count": 6,
   "metadata": {},
   "outputs": [
    {
     "data": {
      "text/html": [
       "<div>\n",
       "<style scoped>\n",
       "    .dataframe tbody tr th:only-of-type {\n",
       "        vertical-align: middle;\n",
       "    }\n",
       "\n",
       "    .dataframe tbody tr th {\n",
       "        vertical-align: top;\n",
       "    }\n",
       "\n",
       "    .dataframe thead th {\n",
       "        text-align: right;\n",
       "    }\n",
       "</style>\n",
       "<table border=\"1\" class=\"dataframe\">\n",
       "  <thead>\n",
       "    <tr style=\"text-align: right;\">\n",
       "      <th></th>\n",
       "      <th>Time</th>\n",
       "      <th>Time_A</th>\n",
       "      <th>Time_B</th>\n",
       "      <th>Time_C</th>\n",
       "      <th>Time_D</th>\n",
       "      <th>Time_E</th>\n",
       "      <th>Time_F</th>\n",
       "      <th>Time_G</th>\n",
       "      <th>Time_H</th>\n",
       "      <th>LT_mean</th>\n",
       "    </tr>\n",
       "  </thead>\n",
       "  <tbody>\n",
       "    <tr>\n",
       "      <td>0</td>\n",
       "      <td>0</td>\n",
       "      <td>0.000000</td>\n",
       "      <td>0.000000</td>\n",
       "      <td>0.000000</td>\n",
       "      <td>0.000000</td>\n",
       "      <td>0.000000</td>\n",
       "      <td>0.000000</td>\n",
       "      <td>0.000000</td>\n",
       "      <td>0.000000</td>\n",
       "      <td>0.000000</td>\n",
       "    </tr>\n",
       "    <tr>\n",
       "      <td>2</td>\n",
       "      <td>5</td>\n",
       "      <td>4.900000</td>\n",
       "      <td>0.000000</td>\n",
       "      <td>3.500000</td>\n",
       "      <td>0.000000</td>\n",
       "      <td>3.450000</td>\n",
       "      <td>0.000000</td>\n",
       "      <td>0.000000</td>\n",
       "      <td>3.425000</td>\n",
       "      <td>1.909375</td>\n",
       "    </tr>\n",
       "    <tr>\n",
       "      <td>4</td>\n",
       "      <td>10</td>\n",
       "      <td>5.400000</td>\n",
       "      <td>6.425000</td>\n",
       "      <td>3.650000</td>\n",
       "      <td>7.300000</td>\n",
       "      <td>4.650000</td>\n",
       "      <td>6.400000</td>\n",
       "      <td>6.850000</td>\n",
       "      <td>3.687500</td>\n",
       "      <td>5.545312</td>\n",
       "    </tr>\n",
       "    <tr>\n",
       "      <td>6</td>\n",
       "      <td>15</td>\n",
       "      <td>5.975000</td>\n",
       "      <td>6.912500</td>\n",
       "      <td>3.700000</td>\n",
       "      <td>7.675000</td>\n",
       "      <td>5.025000</td>\n",
       "      <td>7.950000</td>\n",
       "      <td>7.125000</td>\n",
       "      <td>3.958333</td>\n",
       "      <td>6.040104</td>\n",
       "    </tr>\n",
       "    <tr>\n",
       "      <td>8</td>\n",
       "      <td>20</td>\n",
       "      <td>6.716667</td>\n",
       "      <td>6.541667</td>\n",
       "      <td>3.725000</td>\n",
       "      <td>7.675000</td>\n",
       "      <td>5.766667</td>\n",
       "      <td>8.260000</td>\n",
       "      <td>7.600000</td>\n",
       "      <td>4.057143</td>\n",
       "      <td>6.292768</td>\n",
       "    </tr>\n",
       "    <tr>\n",
       "      <td>...</td>\n",
       "      <td>...</td>\n",
       "      <td>...</td>\n",
       "      <td>...</td>\n",
       "      <td>...</td>\n",
       "      <td>...</td>\n",
       "      <td>...</td>\n",
       "      <td>...</td>\n",
       "      <td>...</td>\n",
       "      <td>...</td>\n",
       "      <td>...</td>\n",
       "    </tr>\n",
       "    <tr>\n",
       "      <td>4024</td>\n",
       "      <td>10060</td>\n",
       "      <td>1265.922681</td>\n",
       "      <td>931.406313</td>\n",
       "      <td>4.259355</td>\n",
       "      <td>1267.726644</td>\n",
       "      <td>599.723211</td>\n",
       "      <td>1266.048116</td>\n",
       "      <td>37.120402</td>\n",
       "      <td>515.943974</td>\n",
       "      <td>736.018837</td>\n",
       "    </tr>\n",
       "    <tr>\n",
       "      <td>4026</td>\n",
       "      <td>10065</td>\n",
       "      <td>1266.758210</td>\n",
       "      <td>931.714420</td>\n",
       "      <td>4.259126</td>\n",
       "      <td>1268.561971</td>\n",
       "      <td>600.046617</td>\n",
       "      <td>1266.886016</td>\n",
       "      <td>37.152593</td>\n",
       "      <td>516.177800</td>\n",
       "      <td>736.444594</td>\n",
       "    </tr>\n",
       "    <tr>\n",
       "      <td>4028</td>\n",
       "      <td>10070</td>\n",
       "      <td>1267.593692</td>\n",
       "      <td>932.023827</td>\n",
       "      <td>4.258898</td>\n",
       "      <td>1268.561971</td>\n",
       "      <td>600.530982</td>\n",
       "      <td>1267.722804</td>\n",
       "      <td>37.184676</td>\n",
       "      <td>516.411287</td>\n",
       "      <td>736.786017</td>\n",
       "    </tr>\n",
       "    <tr>\n",
       "      <td>4030</td>\n",
       "      <td>10075</td>\n",
       "      <td>1267.593692</td>\n",
       "      <td>932.642164</td>\n",
       "      <td>4.258671</td>\n",
       "      <td>1269.398974</td>\n",
       "      <td>600.692256</td>\n",
       "      <td>1267.722804</td>\n",
       "      <td>37.216652</td>\n",
       "      <td>516.644437</td>\n",
       "      <td>737.021206</td>\n",
       "    </tr>\n",
       "    <tr>\n",
       "      <td>4032</td>\n",
       "      <td>10080</td>\n",
       "      <td>1268.430385</td>\n",
       "      <td>933.260018</td>\n",
       "      <td>4.258443</td>\n",
       "      <td>1270.235465</td>\n",
       "      <td>600.853608</td>\n",
       "      <td>1268.560273</td>\n",
       "      <td>37.248821</td>\n",
       "      <td>516.877579</td>\n",
       "      <td>737.465574</td>\n",
       "    </tr>\n",
       "  </tbody>\n",
       "</table>\n",
       "<p>2017 rows × 10 columns</p>\n",
       "</div>"
      ],
      "text/plain": [
       "       Time       Time_A      Time_B    Time_C       Time_D      Time_E  \\\n",
       "0         0     0.000000    0.000000  0.000000     0.000000    0.000000   \n",
       "2         5     4.900000    0.000000  3.500000     0.000000    3.450000   \n",
       "4        10     5.400000    6.425000  3.650000     7.300000    4.650000   \n",
       "6        15     5.975000    6.912500  3.700000     7.675000    5.025000   \n",
       "8        20     6.716667    6.541667  3.725000     7.675000    5.766667   \n",
       "...     ...          ...         ...       ...          ...         ...   \n",
       "4024  10060  1265.922681  931.406313  4.259355  1267.726644  599.723211   \n",
       "4026  10065  1266.758210  931.714420  4.259126  1268.561971  600.046617   \n",
       "4028  10070  1267.593692  932.023827  4.258898  1268.561971  600.530982   \n",
       "4030  10075  1267.593692  932.642164  4.258671  1269.398974  600.692256   \n",
       "4032  10080  1268.430385  933.260018  4.258443  1270.235465  600.853608   \n",
       "\n",
       "           Time_F     Time_G      Time_H     LT_mean  \n",
       "0        0.000000   0.000000    0.000000    0.000000  \n",
       "2        0.000000   0.000000    3.425000    1.909375  \n",
       "4        6.400000   6.850000    3.687500    5.545312  \n",
       "6        7.950000   7.125000    3.958333    6.040104  \n",
       "8        8.260000   7.600000    4.057143    6.292768  \n",
       "...           ...        ...         ...         ...  \n",
       "4024  1266.048116  37.120402  515.943974  736.018837  \n",
       "4026  1266.886016  37.152593  516.177800  736.444594  \n",
       "4028  1267.722804  37.184676  516.411287  736.786017  \n",
       "4030  1267.722804  37.216652  516.644437  737.021206  \n",
       "4032  1268.560273  37.248821  516.877579  737.465574  \n",
       "\n",
       "[2017 rows x 10 columns]"
      ]
     },
     "execution_count": 6,
     "metadata": {},
     "output_type": "execute_result"
    }
   ],
   "source": [
    "copy_data_df = data.copy()\n",
    "del copy_data_df['Time']\n",
    "data['LT_mean'] = copy_data_df.mean(numeric_only=True, axis=1)\n",
    "#data = data[:100] #keep top 3000\n",
    "data"
   ]
  },
  {
   "cell_type": "code",
   "execution_count": null,
   "metadata": {
    "scrolled": false
   },
   "outputs": [],
   "source": [
    " #plt.style.use('fivethirtyeight')\n",
    "plt.style.use('seaborn-darkgrid')\n",
    "my_dpi=96\n",
    "plt.figure(figsize=(480/my_dpi, 480/my_dpi), dpi=my_dpi)\n",
    " \n",
    "# multiple line plot\n",
    "for column in data.drop('Time', axis=1):\n",
    "   plt.plot(data['Time'], data[column], marker='', color='grey', linewidth=1, alpha=0.4)\n",
    " \n",
    "# Now re do the interesting curve, but biger with distinct color\n",
    "plt.plot(data['Time'], data['LT_mean'], marker='', color='orange', linewidth=4, alpha=0.7)\n",
    " \n",
    "# Change xlim\n",
    "plt.xlim(0,10900)\n",
    "\n",
    " \n",
    "# Let's annotate the plot\n",
    "num=0\n",
    "for i in data.values[2016][1:]:\n",
    "   num+=1\n",
    "   name=list(data)[num]\n",
    "   if name != 'LT_mean':\n",
    "      plt.text(10500, i, name, horizontalalignment='right', size='small', color='grey')\n",
    " \n",
    "# And add a special annotation for the group we are interested in\n",
    "plt.text(10200, data.LT_mean.tail(1), 'LT_mean', horizontalalignment='left', size='small', color='orange')\n",
    " \n",
    "# Add titles\n",
    "plt.title(\"Evolution of lead time Base as-is\", loc='left', fontsize=12, fontweight=0, color='orange')\n",
    "plt.xlabel(\"Time\")\n",
    "plt.ylabel(\"LT\")\n",
    "\n",
    "#plt.savefig('_time.png', dpi=400)\n",
    "\n",
    "\n"
   ]
  },
  {
   "cell_type": "code",
   "execution_count": null,
   "metadata": {},
   "outputs": [],
   "source": [
    "data_sliced.mean().mean()"
   ]
  },
  {
   "cell_type": "code",
   "execution_count": null,
   "metadata": {},
   "outputs": [],
   "source": [
    "data_500_sliced = data_500.drop('Time',1)"
   ]
  },
  {
   "cell_type": "code",
   "execution_count": null,
   "metadata": {},
   "outputs": [],
   "source": [
    "data_500_sliced.mean().mean()"
   ]
  },
  {
   "cell_type": "code",
   "execution_count": null,
   "metadata": {},
   "outputs": [],
   "source": [
    "data_50_sliced = data_50.drop('Time',1)"
   ]
  },
  {
   "cell_type": "code",
   "execution_count": null,
   "metadata": {},
   "outputs": [],
   "source": [
    "data_50_sliced.mean().mean()"
   ]
  },
  {
   "cell_type": "code",
   "execution_count": null,
   "metadata": {},
   "outputs": [],
   "source": []
  },
  {
   "cell_type": "code",
   "execution_count": 4,
   "metadata": {},
   "outputs": [],
   "source": [
    "copy_data_500_df = data_500.copy()\n",
    "del copy_data_500_df['Time']\n",
    "data_500['LT_mean'] = copy_data_500_df.mean(numeric_only=True, axis=1)\n",
    "#data = data[:100] #keep top 3000\n",
    "\n",
    "copy_data_50_df = data_50.copy()\n",
    "del copy_data_50_df['Time']\n",
    "data_50['LT_mean'] = copy_data_50_df.mean(numeric_only=True, axis=1)\n",
    "#data = data[:100] #keep top 3000\n"
   ]
  },
  {
   "cell_type": "code",
   "execution_count": 9,
   "metadata": {},
   "outputs": [
    {
     "data": {
      "image/png": "[encoded data removed]",
      "text/plain": [
       "<Figure size 432x288 with 1 Axes>"
      ]
     },
     "metadata": {},
     "output_type": "display_data"
    }
   ],
   "source": [
    "plt.style.use('seaborn-darkgrid')\n",
    "ax = plt.gca()\n",
    "\n",
    "data.plot(kind='line',x='Time',y='LT_mean',ax=ax, label='LT B=1000')\n",
    "data_500.plot(kind='line',x='Time',y='LT_mean',ax=ax, label='LT B=500')\n",
    "data_50.plot(kind='line',x='Time',y='LT_mean',ax=ax, label = 'LT B=50')\n",
    "\n",
    "ax.spines['right'].set_visible(False)\n",
    "ax.spines['top'].set_visible(False)\n",
    "\n",
    "plt.title(\"Evolution of LT with different buffer capacities\", loc='left', fontsize=12, fontweight=0, color='orange')\n",
    "plt.xlabel(\"Time\")\n",
    "plt.ylabel(\"LT\")\n",
    "\n",
    "plt.savefig('lt_hypo.png', dpi=400)"
   ]
  },
  {
   "cell_type": "code",
   "execution_count": null,
   "metadata": {
    "scrolled": false
   },
   "outputs": [],
   "source": [
    "data_50"
   ]
  },
  {
   "cell_type": "code",
   "execution_count": null,
   "metadata": {},
   "outputs": [],
   "source": []
  }
 ],
 "metadata": {
  "kernelspec": {
   "display_name": "Python 3",
   "language": "python",
   "name": "python3"
  },
  "language_info": {
   "codemirror_mode": {
    "name": "ipython",
    "version": 3
   },
   "file_extension": ".py",
   "mimetype": "text/x-python",
   "name": "python",
   "nbconvert_exporter": "python",
   "pygments_lexer": "ipython3",
   "version": "3.7.4"
  }
 },
 "nbformat": 4,
 "nbformat_minor": 2
}
