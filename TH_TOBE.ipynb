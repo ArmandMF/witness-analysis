{
 "cells": [
  {
   "cell_type": "code",
   "execution_count": 25,
   "metadata": {},
   "outputs": [],
   "source": [
    "import pandas as pd\n",
    "import statsmodels.api as sm\n",
    "import matplotlib.pyplot as plt\n",
    "import numpy as np"
   ]
  },
  {
   "cell_type": "code",
   "execution_count": 26,
   "metadata": {},
   "outputs": [],
   "source": [
    "data = pd.read_excel('Base/TH_TOBE_B1000.xlsx', sheet_name='Sheet1')\n",
    "data_c1 = pd.read_excel('SC1/TH_TOBE_B1000.xlsx', sheet_name='Sheet1')\n",
    "data_c2 = pd.read_excel('SC2/TH_TOBE_B1000.xlsx', sheet_name='Sheet1')\n",
    "data_c3 = pd.read_excel('SC3/TH_TOBE_B1000.xlsx', sheet_name='Sheet1')\n",
    "\n",
    "data_c1_release = pd.read_excel('SC1/TH_TOBE_release.xlsx', sheet_name='Sheet1')\n",
    "\n"
   ]
  },
  {
   "cell_type": "code",
   "execution_count": 27,
   "metadata": {},
   "outputs": [],
   "source": [
    "data = data.iloc[::2]\n",
    "data_c1 = data_c1.iloc[::2]\n",
    "data_c2 = data_c2.iloc[::2]\n",
    "data_c3 = data_c3.iloc[::2]\n",
    "\n",
    "data_c1_release = data_c1_release.iloc[::2]"
   ]
  },
  {
   "cell_type": "code",
   "execution_count": 28,
   "metadata": {},
   "outputs": [
    {
     "name": "stdout",
     "output_type": "stream",
     "text": [
      "    Time   A   B   C   D   E   F   G   H\n",
      "0      0   0   0   0   0   0   0   0   0\n",
      "2      5   1   1   1   0   1   0   0   2\n",
      "4     10   3   3   3   2   3   2   3   3\n",
      "6     15   5   5   5   4   5   4   4   6\n",
      "8     20   7   7   6   6   6   6   6   7\n",
      "10    25   9   9   8   8   8   8   7  10\n",
      "12    30  11  11  10  10  10  10   9  11\n",
      "14    35  13  13  11  12  11  12  11  13\n",
      "16    40  15  15  13  14  13  14  12  16\n",
      "18    45  17  17  15  16  15  16  14  17\n"
     ]
    }
   ],
   "source": [
    "print(data.head(10))"
   ]
  },
  {
   "cell_type": "code",
   "execution_count": 29,
   "metadata": {
    "scrolled": true
   },
   "outputs": [
    {
     "data": {
      "text/plain": [
       "Time    10080\n",
       "A        4031\n",
       "B        4031\n",
       "C        3360\n",
       "D        4030\n",
       "E        3360\n",
       "F        4030\n",
       "G        3359\n",
       "H        4031\n",
       "Name: 4032, dtype: int64"
      ]
     },
     "execution_count": 29,
     "metadata": {},
     "output_type": "execute_result"
    }
   ],
   "source": [
    "assy = data.iloc[-1]\n",
    "assy"
   ]
  },
  {
   "cell_type": "code",
   "execution_count": null,
   "metadata": {},
   "outputs": [],
   "source": []
  },
  {
   "cell_type": "code",
   "execution_count": 30,
   "metadata": {},
   "outputs": [],
   "source": [
    "#Define the time you are running your model\n",
    "T = 7*24*60\n",
    "\n",
    "assy = data.iloc[-1]\n",
    "assy_c1 = data_c1.iloc[-1]\n",
    "assy_c2 = data_c2.iloc[-1]\n",
    "assy_c3 = data_c3.iloc[-1]\n",
    "assy_c1_release = data_c1_release.iloc[-1]\n",
    "\n",
    "TH = assy/T\n",
    "TH_c1 = assy_c1/T\n",
    "TH_c2 = assy_c2/T\n",
    "TH_c3 = assy_c3/T\n",
    "TH_c1_release = assy_c1_release/T\n",
    "\n",
    "TH = TH.iloc[1:]\n",
    "TH_c1 = TH_c1.iloc[1:]\n",
    "TH_c2 = TH_c2.iloc[1:]\n",
    "TH_c3 = TH_c3.iloc[1:]\n",
    "TH_c1_release = TH_c1_release.iloc[1:]"
   ]
  },
  {
   "cell_type": "code",
   "execution_count": 31,
   "metadata": {},
   "outputs": [],
   "source": [
    "assy_df = assy.to_frame()\n",
    "assy_df = assy_df.T\n",
    "assy_df = assy_df.drop('Time',1)"
   ]
  },
  {
   "cell_type": "code",
   "execution_count": 37,
   "metadata": {},
   "outputs": [
    {
     "data": {
      "image/png": "[encoded data removed]",
      "text/plain": [
       "<Figure size 1800x720 with 1 Axes>"
      ]
     },
     "metadata": {
      "needs_background": "light"
     },
     "output_type": "display_data"
    }
   ],
   "source": [
    "import seaborn as sns\n",
    "sns.set_context('poster')\n",
    "\n",
    "\n",
    "fig, ax = plt.subplots(figsize=(25, 10))\n",
    "\n",
    "x = np.arange(len(assy_df.columns))\n",
    "\n",
    "bar_width = 0.17\n",
    "\n",
    "#b0 = ax.bar(x, TH, width=bar_width,color = \"#f9ed69\", label ='Base')\n",
    "b1 = ax.bar(x + bar_width, TH_c1,width=bar_width,color=\"#f08a5d\", label='Scenario 1')\n",
    "#b2 = ax.bar(x + 2*bar_width, TH_c2, width=bar_width,color=\"#b83b5e\",label='Scenario 2')\n",
    "#b3 = ax.bar(x + 3*bar_width, TH_c3, width=bar_width,color=\"#6a2c70\",label='Scenario 3')\n",
    "b4 = ax.bar(x + 4*bar_width, TH_c1_release, width=bar_width,color=\"green\",label='Scenario 1_release')\n",
    "\n",
    "\n",
    "# Fix the x-axes.\n",
    "ax.set_xticks(x + 1.5*bar_width)\n",
    "ax.set_xticklabels(assy_df.columns)\n",
    "\n",
    "\n",
    "# Axis styling.\n",
    "ax.spines['top'].set_visible(False)\n",
    "ax.spines['right'].set_visible(False)\n",
    "ax.spines['left'].set_visible(False)\n",
    "ax.spines['bottom'].set_color('#DDDDDD')\n",
    "ax.tick_params(bottom=False, left=False)\n",
    "ax.set_axisbelow(True)\n",
    "ax.yaxis.grid(True, color='#EEEEEE')\n",
    "ax.xaxis.grid(False)\n",
    "\n",
    "plt.ylim([0, 0.5])\n",
    "\n",
    "\n",
    "\n",
    "# Add axis and chart labels.\n",
    "ax.set_xlabel('Parts', labelpad=15)\n",
    "ax.set_ylabel('Throughput', labelpad=15)\n",
    "ax.set_title('Throughput in different scenarios', pad=15)\n",
    "\n",
    "#plt.legend(bbox_to_anchor=(0.2,-0.25,0.5,0.2), loc=\"lower left\", mode=\"expand\", borderaxespad=0, ncol=4)\n",
    "\n",
    "fig.tight_layout()\n",
    "plt.savefig('TH_TOBE.png', transparent=True, dpi=200)"
   ]
  },
  {
   "cell_type": "code",
   "execution_count": 33,
   "metadata": {},
   "outputs": [
    {
     "data": {
      "text/plain": [
       "0.94475"
      ]
     },
     "execution_count": 33,
     "metadata": {},
     "output_type": "execute_result"
    }
   ],
   "source": [
    "assy[1:9].sum()/32000"
   ]
  },
  {
   "cell_type": "code",
   "execution_count": 34,
   "metadata": {},
   "outputs": [
    {
     "data": {
      "text/plain": [
       "0.7390666666666666"
      ]
     },
     "execution_count": 34,
     "metadata": {},
     "output_type": "execute_result"
    }
   ],
   "source": [
    "assy_c1[1:9].sum()/30000"
   ]
  },
  {
   "cell_type": "code",
   "execution_count": 35,
   "metadata": {},
   "outputs": [
    {
     "data": {
      "text/plain": [
       "0.6719"
      ]
     },
     "execution_count": 35,
     "metadata": {},
     "output_type": "execute_result"
    }
   ],
   "source": [
    "assy_c2[1:9].sum()/30000"
   ]
  },
  {
   "cell_type": "code",
   "execution_count": 12,
   "metadata": {},
   "outputs": [
    {
     "data": {
      "text/plain": [
       "0.6719333333333334"
      ]
     },
     "execution_count": 12,
     "metadata": {},
     "output_type": "execute_result"
    }
   ],
   "source": [
    "assy_c3[1:9].sum()/30000"
   ]
  },
  {
   "cell_type": "code",
   "execution_count": 20,
   "metadata": {},
   "outputs": [
    {
     "data": {
      "text/plain": [
       "0.3749007936507936"
      ]
     },
     "execution_count": 20,
     "metadata": {},
     "output_type": "execute_result"
    }
   ],
   "source": [
    "TH.mean()"
   ]
  },
  {
   "cell_type": "code",
   "execution_count": 21,
   "metadata": {},
   "outputs": [
    {
     "data": {
      "text/plain": [
       "0.2749503968253968"
      ]
     },
     "execution_count": 21,
     "metadata": {},
     "output_type": "execute_result"
    }
   ],
   "source": [
    "TH_c1.mean()"
   ]
  },
  {
   "cell_type": "code",
   "execution_count": 22,
   "metadata": {},
   "outputs": [
    {
     "data": {
      "text/plain": [
       "0.2499627976190476"
      ]
     },
     "execution_count": 22,
     "metadata": {},
     "output_type": "execute_result"
    }
   ],
   "source": [
    "TH_c2.mean()"
   ]
  },
  {
   "cell_type": "code",
   "execution_count": 23,
   "metadata": {},
   "outputs": [
    {
     "data": {
      "text/plain": [
       "0.24997519841269839"
      ]
     },
     "execution_count": 23,
     "metadata": {},
     "output_type": "execute_result"
    }
   ],
   "source": [
    "TH_c3.mean()"
   ]
  },
  {
   "cell_type": "code",
   "execution_count": 24,
   "metadata": {},
   "outputs": [
    {
     "data": {
      "text/plain": [
       "A    0.399901\n",
       "B    0.399901\n",
       "C    0.399901\n",
       "D    0.399802\n",
       "E    0.399901\n",
       "F    0.399802\n",
       "G    0.399802\n",
       "H    0.399901\n",
       "Name: 4032, dtype: float64"
      ]
     },
     "execution_count": 24,
     "metadata": {},
     "output_type": "execute_result"
    }
   ],
   "source": [
    "TH_c1_release"
   ]
  },
  {
   "cell_type": "code",
   "execution_count": 38,
   "metadata": {},
   "outputs": [
    {
     "data": {
      "text/plain": [
       "Time    10080\n",
       "A        4031\n",
       "B           0\n",
       "C        3360\n",
       "D        4030\n",
       "E        3360\n",
       "F           0\n",
       "G        3359\n",
       "H        4032\n",
       "Name: 4032, dtype: int64"
      ]
     },
     "execution_count": 38,
     "metadata": {},
     "output_type": "execute_result"
    }
   ],
   "source": [
    "assy_c1"
   ]
  },
  {
   "cell_type": "code",
   "execution_count": 39,
   "metadata": {},
   "outputs": [
    {
     "data": {
      "text/plain": [
       "Time    10080\n",
       "A        5443\n",
       "B           0\n",
       "C        2652\n",
       "D        4634\n",
       "E        2652\n",
       "F           0\n",
       "G        2122\n",
       "H        2652\n",
       "Name: 2016, dtype: int64"
      ]
     },
     "execution_count": 39,
     "metadata": {},
     "output_type": "execute_result"
    }
   ],
   "source": [
    "assy_c1_release"
   ]
  },
  {
   "cell_type": "code",
   "execution_count": 41,
   "metadata": {},
   "outputs": [
    {
     "data": {
      "text/plain": [
       "22172"
      ]
     },
     "execution_count": 41,
     "metadata": {},
     "output_type": "execute_result"
    }
   ],
   "source": [
    "assy_c1[1:9].sum()"
   ]
  },
  {
   "cell_type": "code",
   "execution_count": 45,
   "metadata": {},
   "outputs": [
    {
     "data": {
      "text/plain": [
       "Time    10080\n",
       "A        5443\n",
       "B           0\n",
       "C        2652\n",
       "D        4634\n",
       "E        2652\n",
       "F           0\n",
       "G        2122\n",
       "H        2652\n",
       "Name: 2016, dtype: int64"
      ]
     },
     "execution_count": 45,
     "metadata": {},
     "output_type": "execute_result"
    }
   ],
   "source": [
    "assy_c1_release"
   ]
  },
  {
   "cell_type": "code",
   "execution_count": 44,
   "metadata": {},
   "outputs": [
    {
     "data": {
      "text/plain": [
       "2017"
      ]
     },
     "execution_count": 44,
     "metadata": {},
     "output_type": "execute_result"
    }
   ],
   "source": [
    "22172-20155"
   ]
  },
  {
   "cell_type": "code",
   "execution_count": null,
   "metadata": {},
   "outputs": [],
   "source": []
  }
 ],
 "metadata": {
  "kernelspec": {
   "display_name": "Python 3",
   "language": "python",
   "name": "python3"
  },
  "language_info": {
   "codemirror_mode": {
    "name": "ipython",
    "version": 3
   },
   "file_extension": ".py",
   "mimetype": "text/x-python",
   "name": "python",
   "nbconvert_exporter": "python",
   "pygments_lexer": "ipython3",
   "version": "3.7.4"
  }
 },
 "nbformat": 4,
 "nbformat_minor": 2
}
